{
 "cells": [
  {
   "cell_type": "markdown",
   "metadata": {},
   "source": [
    "Python Basics\n",
    "Source: Code examples of \"Intro to Deep Learning\" (Skansi, 2018) and my own examples\n",
    "modified by: edyblau\n",
    "date: 09/13/2021\n",
    "update: 02/13/2022"
   ]
  },
  {
   "cell_type": "code",
   "execution_count": 1,
   "metadata": {},
   "outputs": [
    {
     "name": "stdout",
     "output_type": "stream",
     "text": [
      "Hello Word\n"
     ]
    }
   ],
   "source": [
    "# The basics\n",
    "print(\"Hello Word\")"
   ]
  },
  {
   "cell_type": "markdown",
   "metadata": {},
   "source": [
    "Important libraries:\n",
    "- tensorflow\n",
    "- keras\n",
    "- numpy\n",
    "- pandas\n",
    "- matplotlib\n",
    "- sklearn\n",
    "- seaborn"
   ]
  },
  {
   "cell_type": "code",
   "execution_count": 2,
   "metadata": {},
   "outputs": [
    {
     "name": "stdout",
     "output_type": "stream",
     "text": [
      "False\n"
     ]
    }
   ],
   "source": [
    "# A verification\n",
    "print(\"1\" == 1)"
   ]
  },
  {
   "cell_type": "code",
   "execution_count": 1,
   "metadata": {},
   "outputs": [
    {
     "name": "stdout",
     "output_type": "stream",
     "text": [
      "52\n"
     ]
    }
   ],
   "source": [
    "# Function example\n",
    "def substract_one(number):\n",
    "    return number - 1\n",
    "\n",
    "print(substract_one(53))"
   ]
  },
  {
   "cell_type": "code",
   "execution_count": 2,
   "metadata": {},
   "outputs": [
    {
     "name": "stdout",
     "output_type": "stream",
     "text": [
      "13\n",
      "0\n"
     ]
    }
   ],
   "source": [
    "# Len function\n",
    "print(len(\"Deep Learning\"))\n",
    "print(len(\"\"))"
   ]
  },
  {
   "cell_type": "code",
   "execution_count": 4,
   "metadata": {},
   "outputs": [
    {
     "name": "stdout",
     "output_type": "stream",
     "text": [
      "a\n",
      "True\n"
     ]
    }
   ],
   "source": [
    "# Substrings\n",
    "my_string = \"abcdef\"\n",
    "print(my_string[0])\n",
    "print(my_string[-1] == my_string[len(my_string)-1])"
   ]
  },
  {
   "cell_type": "code",
   "execution_count": 5,
   "metadata": {},
   "outputs": [
    {
     "name": "stdout",
     "output_type": "stream",
     "text": [
      "valid condition\n"
     ]
    }
   ],
   "source": [
    "# Conditionals\n",
    "condition = 1\n",
    "if condition == 1:\n",
    "    print(\"valid condition\")\n",
    "elif condition == 0:\n",
    "    print(\"invalid condition\")\n",
    "else:\n",
    "    print(\"Error\")"
   ]
  },
  {
   "cell_type": "code",
   "execution_count": 9,
   "metadata": {},
   "outputs": [
    {
     "name": "stdout",
     "output_type": "stream",
     "text": [
      "2\n",
      "3\n",
      "4\n",
      "5\n",
      "6\n",
      "7\n",
      "8\n"
     ]
    }
   ],
   "source": [
    "# Lists\n",
    "list_1 = []\n",
    "list_1.append(\"¡Viva México!\")\n",
    "list_1.append(\"¡Viva América!\")\n",
    "\n",
    "list_2 = range(2,9)\n",
    "for value in list_2:\n",
    "    print(value)"
   ]
  },
  {
   "cell_type": "code",
   "execution_count": 10,
   "metadata": {},
   "outputs": [
    {
     "name": "stdout",
     "output_type": "stream",
     "text": [
      "¡Viva México!\n",
      "¡Viva América!\n"
     ]
    }
   ],
   "source": [
    "# For Loops\n",
    "# Equivalent version as \"For each\" in Java\n",
    "for pos in list_1:\n",
    "    print(pos)"
   ]
  },
  {
   "cell_type": "code",
   "execution_count": 15,
   "metadata": {},
   "outputs": [
    {
     "name": "stdout",
     "output_type": "stream",
     "text": [
      "¡Viva México!\n",
      "¡Viva América!\n"
     ]
    }
   ],
   "source": [
    "# Equivalent version as \"traditional\" in C, C++ or Java\n",
    "for i in range(len(list_1)):\n",
    "    print(list_1[i])"
   ]
  },
  {
   "cell_type": "code",
   "execution_count": 16,
   "metadata": {},
   "outputs": [
    {
     "name": "stdout",
     "output_type": "stream",
     "text": [
      "¡Viva México! 0\n",
      "¡Viva América! 1\n"
     ]
    }
   ],
   "source": [
    "# Another way using enumerate (it uses the value and the position)\n",
    "for k, val in enumerate(list_1):\n",
    "    print(val, k)"
   ]
  },
  {
   "cell_type": "code",
   "execution_count": 18,
   "metadata": {},
   "outputs": [
    {
     "name": "stdout",
     "output_type": "stream",
     "text": [
      "Thermo temperature:  15\n",
      "Thermo temperature:  17\n",
      "Thermo temperature:  19\n"
     ]
    }
   ],
   "source": [
    "# While Loops\n",
    "thermo_temp = 15\n",
    "while thermo_temp < 20:\n",
    "    print(\"Thermo temperature: \", thermo_temp)\n",
    "    thermo_temp += 2"
   ]
  },
  {
   "cell_type": "code",
   "execution_count": 19,
   "metadata": {},
   "outputs": [
    {
     "name": "stdout",
     "output_type": "stream",
     "text": [
      "{'key1': 'value1', 1: [1, 2, 3, 4, 5], 1.11: 3.456, 'c': {4: 5}}\n"
     ]
    }
   ],
   "source": [
    "# Dictionaries\n",
    "# A dictionary can be made of any variable type, list or even other dictionary\n",
    "dict_1 = {\"key1\":\"value1\", 1:[1, 2, 3, 4, 5], 1.11:3.456, \"c\":{4:5}}\n",
    "print(dict_1)"
   ]
  },
  {
   "cell_type": "code",
   "execution_count": 20,
   "metadata": {},
   "outputs": [
    {
     "name": "stdout",
     "output_type": "stream",
     "text": [
      "('key1', 'value1')\n",
      "(1, [1, 2, 3, 4, 5])\n",
      "(1.11, 3.456)\n",
      "('c', {4: 5})\n"
     ]
    }
   ],
   "source": [
    "# Loop over dict_1\n",
    "dict_items = dict_1.items()\n",
    "for item in dict_items:\n",
    "    print(item)"
   ]
  },
  {
   "cell_type": "code",
   "execution_count": 21,
   "metadata": {},
   "outputs": [
    {
     "name": "stdout",
     "output_type": "stream",
     "text": [
      "{'key1': 'value1', 1: [1, 2, 3, 4, 5], 1.11: 3.456, 'c': {4: 5}, 'new_key': 'new value'}\n"
     ]
    }
   ],
   "source": [
    "# Adding a new pair (key, value) to dict_1\n",
    "dict_1[\"new_key\"] = \"new value\"\n",
    "print(dict_1)"
   ]
  }
 ],
 "metadata": {
  "interpreter": {
   "hash": "5755c2f0811814accf25fbebcfa907206ca60a68b48a5133fe8b61edd173d7a4"
  },
  "kernelspec": {
   "display_name": "Python 3.9.7 ('base')",
   "language": "python",
   "name": "python3"
  },
  "language_info": {
   "codemirror_mode": {
    "name": "ipython",
    "version": 3
   },
   "file_extension": ".py",
   "mimetype": "text/x-python",
   "name": "python",
   "nbconvert_exporter": "python",
   "pygments_lexer": "ipython3",
   "version": "3.9.7"
  },
  "orig_nbformat": 4
 },
 "nbformat": 4,
 "nbformat_minor": 2
}
